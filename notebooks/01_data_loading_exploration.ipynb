{
 "cells": [
  {
   "cell_type": "code",
   "execution_count": 1,
   "id": "1c5be3c9",
   "metadata": {},
   "outputs": [],
   "source": [
    "# ---------------------------\n",
    "# 1. Imports\n",
    "# ---------------------------\n",
    "\n",
    "import pandas as pd\n",
    "import numpy as np\n",
    "import seaborn as sns\n",
    "import matplotlib.pyplot as plt\n",
    "import os"
   ]
  },
  {
   "cell_type": "code",
   "execution_count": 2,
   "id": "b69c5459",
   "metadata": {},
   "outputs": [],
   "source": [
    "# For interactive plots (optional)\n",
    "import plotly.express as px\n",
    "\n",
    "# Display all columns\n",
    "pd.set_option('display.max_columns', None)"
   ]
  },
  {
   "cell_type": "code",
   "execution_count": 4,
   "id": "2555529a",
   "metadata": {},
   "outputs": [
    {
     "name": "stdout",
     "output_type": "stream",
     "text": [
      "✅ Data loaded successfully.\n"
     ]
    },
    {
     "data": {
      "text/html": [
       "<div>\n",
       "<style scoped>\n",
       "    .dataframe tbody tr th:only-of-type {\n",
       "        vertical-align: middle;\n",
       "    }\n",
       "\n",
       "    .dataframe tbody tr th {\n",
       "        vertical-align: top;\n",
       "    }\n",
       "\n",
       "    .dataframe thead th {\n",
       "        text-align: right;\n",
       "    }\n",
       "</style>\n",
       "<table border=\"1\" class=\"dataframe\">\n",
       "  <thead>\n",
       "    <tr style=\"text-align: right;\">\n",
       "      <th></th>\n",
       "      <th>IndicatorCode</th>\n",
       "      <th>Indicator</th>\n",
       "      <th>ValueType</th>\n",
       "      <th>ParentLocationCode</th>\n",
       "      <th>ParentLocation</th>\n",
       "      <th>Location type</th>\n",
       "      <th>SpatialDimValueCode</th>\n",
       "      <th>Location</th>\n",
       "      <th>Period type</th>\n",
       "      <th>Period</th>\n",
       "      <th>IsLatestYear</th>\n",
       "      <th>Dim1 type</th>\n",
       "      <th>Dim1</th>\n",
       "      <th>Dim1ValueCode</th>\n",
       "      <th>Dim2 type</th>\n",
       "      <th>Dim2</th>\n",
       "      <th>Dim2ValueCode</th>\n",
       "      <th>Dim3 type</th>\n",
       "      <th>Dim3</th>\n",
       "      <th>Dim3ValueCode</th>\n",
       "      <th>DataSourceDimValueCode</th>\n",
       "      <th>DataSource</th>\n",
       "      <th>FactValueNumericPrefix</th>\n",
       "      <th>FactValueNumeric</th>\n",
       "      <th>FactValueUoM</th>\n",
       "      <th>FactValueNumericLowPrefix</th>\n",
       "      <th>FactValueNumericLow</th>\n",
       "      <th>FactValueNumericHighPrefix</th>\n",
       "      <th>FactValueNumericHigh</th>\n",
       "      <th>Value</th>\n",
       "      <th>FactValueTranslationID</th>\n",
       "      <th>FactComments</th>\n",
       "      <th>Language</th>\n",
       "      <th>DateModified</th>\n",
       "    </tr>\n",
       "  </thead>\n",
       "  <tbody>\n",
       "    <tr>\n",
       "      <th>0</th>\n",
       "      <td>SDGPM25</td>\n",
       "      <td>Concentrations of fine particulate matter (PM2.5)</td>\n",
       "      <td>text</td>\n",
       "      <td>AFR</td>\n",
       "      <td>Africa</td>\n",
       "      <td>Country</td>\n",
       "      <td>KEN</td>\n",
       "      <td>Kenya</td>\n",
       "      <td>Year</td>\n",
       "      <td>2019</td>\n",
       "      <td>True</td>\n",
       "      <td>Residence Area Type</td>\n",
       "      <td>Cities</td>\n",
       "      <td>RESIDENCEAREATYPE_CITY</td>\n",
       "      <td>NaN</td>\n",
       "      <td>NaN</td>\n",
       "      <td>NaN</td>\n",
       "      <td>NaN</td>\n",
       "      <td>NaN</td>\n",
       "      <td>NaN</td>\n",
       "      <td>NaN</td>\n",
       "      <td>NaN</td>\n",
       "      <td>NaN</td>\n",
       "      <td>10.01</td>\n",
       "      <td>NaN</td>\n",
       "      <td>NaN</td>\n",
       "      <td>6.29</td>\n",
       "      <td>NaN</td>\n",
       "      <td>13.74</td>\n",
       "      <td>10.01 [6.29-13.74]</td>\n",
       "      <td>NaN</td>\n",
       "      <td>NaN</td>\n",
       "      <td>EN</td>\n",
       "      <td>2022-08-12T05:00:00.000Z</td>\n",
       "    </tr>\n",
       "    <tr>\n",
       "      <th>1</th>\n",
       "      <td>SDGPM25</td>\n",
       "      <td>Concentrations of fine particulate matter (PM2.5)</td>\n",
       "      <td>text</td>\n",
       "      <td>AMR</td>\n",
       "      <td>Americas</td>\n",
       "      <td>Country</td>\n",
       "      <td>TTO</td>\n",
       "      <td>Trinidad and Tobago</td>\n",
       "      <td>Year</td>\n",
       "      <td>2019</td>\n",
       "      <td>True</td>\n",
       "      <td>Residence Area Type</td>\n",
       "      <td>Rural</td>\n",
       "      <td>RESIDENCEAREATYPE_RUR</td>\n",
       "      <td>NaN</td>\n",
       "      <td>NaN</td>\n",
       "      <td>NaN</td>\n",
       "      <td>NaN</td>\n",
       "      <td>NaN</td>\n",
       "      <td>NaN</td>\n",
       "      <td>NaN</td>\n",
       "      <td>NaN</td>\n",
       "      <td>NaN</td>\n",
       "      <td>10.02</td>\n",
       "      <td>NaN</td>\n",
       "      <td>NaN</td>\n",
       "      <td>7.44</td>\n",
       "      <td>NaN</td>\n",
       "      <td>12.55</td>\n",
       "      <td>10.02 [7.44-12.55]</td>\n",
       "      <td>NaN</td>\n",
       "      <td>NaN</td>\n",
       "      <td>EN</td>\n",
       "      <td>2022-08-12T05:00:00.000Z</td>\n",
       "    </tr>\n",
       "    <tr>\n",
       "      <th>2</th>\n",
       "      <td>SDGPM25</td>\n",
       "      <td>Concentrations of fine particulate matter (PM2.5)</td>\n",
       "      <td>text</td>\n",
       "      <td>EUR</td>\n",
       "      <td>Europe</td>\n",
       "      <td>Country</td>\n",
       "      <td>GBR</td>\n",
       "      <td>United Kingdom of Great Britain and Northern I...</td>\n",
       "      <td>Year</td>\n",
       "      <td>2019</td>\n",
       "      <td>True</td>\n",
       "      <td>Residence Area Type</td>\n",
       "      <td>Cities</td>\n",
       "      <td>RESIDENCEAREATYPE_CITY</td>\n",
       "      <td>NaN</td>\n",
       "      <td>NaN</td>\n",
       "      <td>NaN</td>\n",
       "      <td>NaN</td>\n",
       "      <td>NaN</td>\n",
       "      <td>NaN</td>\n",
       "      <td>NaN</td>\n",
       "      <td>NaN</td>\n",
       "      <td>NaN</td>\n",
       "      <td>10.06</td>\n",
       "      <td>NaN</td>\n",
       "      <td>NaN</td>\n",
       "      <td>9.73</td>\n",
       "      <td>NaN</td>\n",
       "      <td>10.39</td>\n",
       "      <td>10.06 [9.73-10.39]</td>\n",
       "      <td>NaN</td>\n",
       "      <td>NaN</td>\n",
       "      <td>EN</td>\n",
       "      <td>2022-08-12T05:00:00.000Z</td>\n",
       "    </tr>\n",
       "    <tr>\n",
       "      <th>3</th>\n",
       "      <td>SDGPM25</td>\n",
       "      <td>Concentrations of fine particulate matter (PM2.5)</td>\n",
       "      <td>text</td>\n",
       "      <td>AMR</td>\n",
       "      <td>Americas</td>\n",
       "      <td>Country</td>\n",
       "      <td>GRD</td>\n",
       "      <td>Grenada</td>\n",
       "      <td>Year</td>\n",
       "      <td>2019</td>\n",
       "      <td>True</td>\n",
       "      <td>Residence Area Type</td>\n",
       "      <td>Total</td>\n",
       "      <td>RESIDENCEAREATYPE_TOTL</td>\n",
       "      <td>NaN</td>\n",
       "      <td>NaN</td>\n",
       "      <td>NaN</td>\n",
       "      <td>NaN</td>\n",
       "      <td>NaN</td>\n",
       "      <td>NaN</td>\n",
       "      <td>NaN</td>\n",
       "      <td>NaN</td>\n",
       "      <td>NaN</td>\n",
       "      <td>10.08</td>\n",
       "      <td>NaN</td>\n",
       "      <td>NaN</td>\n",
       "      <td>7.07</td>\n",
       "      <td>NaN</td>\n",
       "      <td>13.20</td>\n",
       "      <td>10.08 [7.07-13.20]</td>\n",
       "      <td>NaN</td>\n",
       "      <td>NaN</td>\n",
       "      <td>EN</td>\n",
       "      <td>2022-08-12T05:00:00.000Z</td>\n",
       "    </tr>\n",
       "    <tr>\n",
       "      <th>4</th>\n",
       "      <td>SDGPM25</td>\n",
       "      <td>Concentrations of fine particulate matter (PM2.5)</td>\n",
       "      <td>text</td>\n",
       "      <td>AMR</td>\n",
       "      <td>Americas</td>\n",
       "      <td>Country</td>\n",
       "      <td>BRA</td>\n",
       "      <td>Brazil</td>\n",
       "      <td>Year</td>\n",
       "      <td>2019</td>\n",
       "      <td>True</td>\n",
       "      <td>Residence Area Type</td>\n",
       "      <td>Towns</td>\n",
       "      <td>RESIDENCEAREATYPE_TOWN</td>\n",
       "      <td>NaN</td>\n",
       "      <td>NaN</td>\n",
       "      <td>NaN</td>\n",
       "      <td>NaN</td>\n",
       "      <td>NaN</td>\n",
       "      <td>NaN</td>\n",
       "      <td>NaN</td>\n",
       "      <td>NaN</td>\n",
       "      <td>NaN</td>\n",
       "      <td>10.09</td>\n",
       "      <td>NaN</td>\n",
       "      <td>NaN</td>\n",
       "      <td>8.23</td>\n",
       "      <td>NaN</td>\n",
       "      <td>12.46</td>\n",
       "      <td>10.09 [8.23-12.46]</td>\n",
       "      <td>NaN</td>\n",
       "      <td>NaN</td>\n",
       "      <td>EN</td>\n",
       "      <td>2022-08-12T05:00:00.000Z</td>\n",
       "    </tr>\n",
       "  </tbody>\n",
       "</table>\n",
       "</div>"
      ],
      "text/plain": [
       "  IndicatorCode                                          Indicator ValueType  \\\n",
       "0       SDGPM25  Concentrations of fine particulate matter (PM2.5)      text   \n",
       "1       SDGPM25  Concentrations of fine particulate matter (PM2.5)      text   \n",
       "2       SDGPM25  Concentrations of fine particulate matter (PM2.5)      text   \n",
       "3       SDGPM25  Concentrations of fine particulate matter (PM2.5)      text   \n",
       "4       SDGPM25  Concentrations of fine particulate matter (PM2.5)      text   \n",
       "\n",
       "  ParentLocationCode ParentLocation Location type SpatialDimValueCode  \\\n",
       "0                AFR         Africa       Country                 KEN   \n",
       "1                AMR       Americas       Country                 TTO   \n",
       "2                EUR         Europe       Country                 GBR   \n",
       "3                AMR       Americas       Country                 GRD   \n",
       "4                AMR       Americas       Country                 BRA   \n",
       "\n",
       "                                            Location Period type  Period  \\\n",
       "0                                              Kenya        Year    2019   \n",
       "1                                Trinidad and Tobago        Year    2019   \n",
       "2  United Kingdom of Great Britain and Northern I...        Year    2019   \n",
       "3                                            Grenada        Year    2019   \n",
       "4                                             Brazil        Year    2019   \n",
       "\n",
       "   IsLatestYear            Dim1 type    Dim1           Dim1ValueCode  \\\n",
       "0          True  Residence Area Type  Cities  RESIDENCEAREATYPE_CITY   \n",
       "1          True  Residence Area Type   Rural   RESIDENCEAREATYPE_RUR   \n",
       "2          True  Residence Area Type  Cities  RESIDENCEAREATYPE_CITY   \n",
       "3          True  Residence Area Type   Total  RESIDENCEAREATYPE_TOTL   \n",
       "4          True  Residence Area Type   Towns  RESIDENCEAREATYPE_TOWN   \n",
       "\n",
       "   Dim2 type  Dim2  Dim2ValueCode  Dim3 type  Dim3  Dim3ValueCode  \\\n",
       "0        NaN   NaN            NaN        NaN   NaN            NaN   \n",
       "1        NaN   NaN            NaN        NaN   NaN            NaN   \n",
       "2        NaN   NaN            NaN        NaN   NaN            NaN   \n",
       "3        NaN   NaN            NaN        NaN   NaN            NaN   \n",
       "4        NaN   NaN            NaN        NaN   NaN            NaN   \n",
       "\n",
       "   DataSourceDimValueCode  DataSource  FactValueNumericPrefix  \\\n",
       "0                     NaN         NaN                     NaN   \n",
       "1                     NaN         NaN                     NaN   \n",
       "2                     NaN         NaN                     NaN   \n",
       "3                     NaN         NaN                     NaN   \n",
       "4                     NaN         NaN                     NaN   \n",
       "\n",
       "   FactValueNumeric  FactValueUoM  FactValueNumericLowPrefix  \\\n",
       "0             10.01           NaN                        NaN   \n",
       "1             10.02           NaN                        NaN   \n",
       "2             10.06           NaN                        NaN   \n",
       "3             10.08           NaN                        NaN   \n",
       "4             10.09           NaN                        NaN   \n",
       "\n",
       "   FactValueNumericLow  FactValueNumericHighPrefix  FactValueNumericHigh  \\\n",
       "0                 6.29                         NaN                 13.74   \n",
       "1                 7.44                         NaN                 12.55   \n",
       "2                 9.73                         NaN                 10.39   \n",
       "3                 7.07                         NaN                 13.20   \n",
       "4                 8.23                         NaN                 12.46   \n",
       "\n",
       "                Value  FactValueTranslationID  FactComments Language  \\\n",
       "0  10.01 [6.29-13.74]                     NaN           NaN       EN   \n",
       "1  10.02 [7.44-12.55]                     NaN           NaN       EN   \n",
       "2  10.06 [9.73-10.39]                     NaN           NaN       EN   \n",
       "3  10.08 [7.07-13.20]                     NaN           NaN       EN   \n",
       "4  10.09 [8.23-12.46]                     NaN           NaN       EN   \n",
       "\n",
       "               DateModified  \n",
       "0  2022-08-12T05:00:00.000Z  \n",
       "1  2022-08-12T05:00:00.000Z  \n",
       "2  2022-08-12T05:00:00.000Z  \n",
       "3  2022-08-12T05:00:00.000Z  \n",
       "4  2022-08-12T05:00:00.000Z  "
      ]
     },
     "execution_count": 4,
     "metadata": {},
     "output_type": "execute_result"
    }
   ],
   "source": [
    "# ---------------------------\n",
    "# 2. Load the Data\n",
    "# ---------------------------\n",
    "\n",
    "# Define file path\n",
    "DATA_PATH = \"../data/raw/WHO_PM25_urban_2022.csv\"\n",
    "\n",
    "# Load CSV\n",
    "try:\n",
    "    df = pd.read_csv(DATA_PATH)\n",
    "    print(\"✅ Data loaded successfully.\")\n",
    "except FileNotFoundError:\n",
    "    print(\"❌ File not found. Please make sure the CSV is in data/raw/\")\n",
    "    raise\n",
    "\n",
    "# Preview\n",
    "df.head()"
   ]
  },
  {
   "cell_type": "code",
   "execution_count": 5,
   "id": "f523028d",
   "metadata": {},
   "outputs": [
    {
     "name": "stdout",
     "output_type": "stream",
     "text": [
      "\n",
      "🧾 Number of rows: 9450, Columns: 34\n",
      "\n",
      "📄 Column names:\n",
      "['IndicatorCode', 'Indicator', 'ValueType', 'ParentLocationCode', 'ParentLocation', 'Location type', 'SpatialDimValueCode', 'Location', 'Period type', 'Period', 'IsLatestYear', 'Dim1 type', 'Dim1', 'Dim1ValueCode', 'Dim2 type', 'Dim2', 'Dim2ValueCode', 'Dim3 type', 'Dim3', 'Dim3ValueCode', 'DataSourceDimValueCode', 'DataSource', 'FactValueNumericPrefix', 'FactValueNumeric', 'FactValueUoM', 'FactValueNumericLowPrefix', 'FactValueNumericLow', 'FactValueNumericHighPrefix', 'FactValueNumericHigh', 'Value', 'FactValueTranslationID', 'FactComments', 'Language', 'DateModified']\n"
     ]
    },
    {
     "data": {
      "text/plain": [
       "IndicatorCode                  object\n",
       "Indicator                      object\n",
       "ValueType                      object\n",
       "ParentLocationCode             object\n",
       "ParentLocation                 object\n",
       "Location type                  object\n",
       "SpatialDimValueCode            object\n",
       "Location                       object\n",
       "Period type                    object\n",
       "Period                          int64\n",
       "IsLatestYear                     bool\n",
       "Dim1 type                      object\n",
       "Dim1                           object\n",
       "Dim1ValueCode                  object\n",
       "Dim2 type                     float64\n",
       "Dim2                          float64\n",
       "Dim2ValueCode                 float64\n",
       "Dim3 type                     float64\n",
       "Dim3                          float64\n",
       "Dim3ValueCode                 float64\n",
       "DataSourceDimValueCode        float64\n",
       "DataSource                    float64\n",
       "FactValueNumericPrefix        float64\n",
       "FactValueNumeric              float64\n",
       "FactValueUoM                  float64\n",
       "FactValueNumericLowPrefix     float64\n",
       "FactValueNumericLow           float64\n",
       "FactValueNumericHighPrefix    float64\n",
       "FactValueNumericHigh          float64\n",
       "Value                          object\n",
       "FactValueTranslationID        float64\n",
       "FactComments                  float64\n",
       "Language                       object\n",
       "DateModified                   object\n",
       "dtype: object"
      ]
     },
     "execution_count": 5,
     "metadata": {},
     "output_type": "execute_result"
    }
   ],
   "source": [
    "# ---------------------------\n",
    "# 3. Quick Overview\n",
    "# ---------------------------\n",
    "\n",
    "print(f\"\\n🧾 Number of rows: {df.shape[0]}, Columns: {df.shape[1]}\")\n",
    "print(\"\\n📄 Column names:\")\n",
    "print(df.columns.tolist())\n",
    "\n",
    "# Check datatypes\n",
    "df.dtypes"
   ]
  },
  {
   "cell_type": "code",
   "execution_count": 6,
   "id": "ab453b71",
   "metadata": {},
   "outputs": [
    {
     "name": "stdout",
     "output_type": "stream",
     "text": [
      "\n",
      "🧼 Missing values per column:\n",
      "IndicatorCode                    0\n",
      "Indicator                        0\n",
      "ValueType                        0\n",
      "ParentLocationCode               0\n",
      "ParentLocation                   0\n",
      "Location type                    0\n",
      "SpatialDimValueCode              0\n",
      "Location                         0\n",
      "Period type                      0\n",
      "Period                           0\n",
      "IsLatestYear                     0\n",
      "Dim1 type                        0\n",
      "Dim1                             0\n",
      "Dim1ValueCode                    0\n",
      "Dim2 type                     9450\n",
      "Dim2                          9450\n",
      "Dim2ValueCode                 9450\n",
      "Dim3 type                     9450\n",
      "Dim3                          9450\n",
      "Dim3ValueCode                 9450\n",
      "DataSourceDimValueCode        9450\n",
      "DataSource                    9450\n",
      "FactValueNumericPrefix        9450\n",
      "FactValueNumeric                 0\n",
      "FactValueUoM                  9450\n",
      "FactValueNumericLowPrefix     9450\n",
      "FactValueNumericLow              0\n",
      "FactValueNumericHighPrefix    9450\n",
      "FactValueNumericHigh             0\n",
      "Value                            0\n",
      "FactValueTranslationID        9450\n",
      "FactComments                  9450\n",
      "Language                         0\n",
      "DateModified                     0\n",
      "dtype: int64\n"
     ]
    }
   ],
   "source": [
    "# ---------------------------\n",
    "# 4. Descriptive Statistics\n",
    "# ---------------------------\n",
    "\n",
    "df.describe(include='all')\n",
    "\n",
    "# Check nulls\n",
    "print(\"\\n🧼 Missing values per column:\")\n",
    "print(df.isnull().sum())"
   ]
  },
  {
   "cell_type": "code",
   "execution_count": 9,
   "id": "3d56d1e0",
   "metadata": {},
   "outputs": [
    {
     "name": "stdout",
     "output_type": "stream",
     "text": [
      "\n",
      "🌍 Number of unique countries: 195\n",
      "['Kenya' 'Trinidad and Tobago'\n",
      " 'United Kingdom of Great Britain and Northern Ireland' 'Grenada' 'Brazil'\n",
      " 'Denmark' 'Russian Federation' 'Spain' 'France' 'Guyana']\n",
      "\n",
      "📅 Year range: 2010 to 2019\n"
     ]
    }
   ],
   "source": [
    "# ---------------------------\n",
    "# 5. Unique Countries (Location) and Years (Period)\n",
    "# ---------------------------\n",
    "\n",
    "# if 'Country' in df.columns:\n",
    "#     print(f\"\\n🌍 Number of unique countries: {df['Country'].nunique()}\")\n",
    "#     print(df['Country'].unique()[:10])\n",
    "\n",
    "# if 'Year' in df.columns:\n",
    "#     print(f\"\\n📅 Year range: {df['Year'].min()} to {df['Year'].max()}\")\n",
    "\n",
    "if 'Location' in df.columns:\n",
    "    print(f\"\\n🌍 Number of unique countries: {df['Location'].nunique()}\")\n",
    "    print(df['Location'].unique()[:10])\n",
    "\n",
    "if 'Period' in df.columns:\n",
    "    print(f\"\\n📅 Year range: {df['Period'].min()} to {df['Period'].max()}\")"
   ]
  },
  {
   "cell_type": "code",
   "execution_count": 7,
   "id": "9334a9ef",
   "metadata": {},
   "outputs": [
    {
     "data": {
      "image/png": "[encoded data removed]",
      "text/plain": [
       "<Figure size 1000x500 with 1 Axes>"
      ]
     },
     "metadata": {},
     "output_type": "display_data"
    },
    {
     "name": "stderr",
     "output_type": "stream",
     "text": [
      "/var/folders/xn/f22k2n417tddr831ph76t6d80000gn/T/ipykernel_51100/2318115137.py:21: FutureWarning: \n",
      "\n",
      "Passing `palette` without assigning `hue` is deprecated and will be removed in v0.14.0. Assign the `x` variable to `hue` and set `legend=False` for the same effect.\n",
      "\n",
      "  sns.barplot(data=top_locations, x='Location', y=pm_col, palette='Reds_r')\n"
     ]
    },
    {
     "data": {
      "image/png": "[encoded data removed]",
      "text/plain": [
       "<Figure size 1200x600 with 1 Axes>"
      ]
     },
     "metadata": {},
     "output_type": "display_data"
    },
    {
     "data": {
      "application/vnd.plotly.v1+json": {
       "config": {
        "plotlyServerURL": "https://plot.ly"
       },
       "data": [
        {
         "coloraxis": "coloraxis",
         "geo": "geo",
         "hovertemplate": "Location=%{location}<br>FactValueNumeric=%{z}<extra></extra>",
         "locationmode": "country names",
         "locations": [
          "Afghanistan",
          "Albania",
          "Algeria",
          "Andorra",
          "Angola",
          "Antigua and Barbuda",
          "Argentina",
          "Armenia",
          "Australia",
          "Austria",
          "Azerbaijan",
          "Bahamas",
          "Bahrain",
          "Bangladesh",
          "Barbados",
          "Belarus",
          "Belgium",
          "Belize",
          "Benin",
          "Bhutan",
          "Bolivia (Plurinational State of)",
          "Bosnia and Herzegovina",
          "Botswana",
          "Brazil",
          "Brunei Darussalam",
          "Bulgaria",
          "Burkina Faso",
          "Burundi",
          "Cabo Verde",
          "Cambodia",
          "Cameroon",
          "Canada",
          "Central African Republic",
          "Chad",
          "Chile",
          "China",
          "Colombia",
          "Comoros",
          "Congo",
          "Cook Islands",
          "Costa Rica",
          "Cote d'Ivoire",
          "Croatia",
          "Cuba",
          "Cyprus",
          "Czechia",
          "Democratic People's Republic of Korea",
          "Democratic Republic of the Congo",
          "Denmark",
          "Djibouti",
          "Dominica",
          "Dominican Republic",
          "Ecuador",
          "Egypt",
          "El Salvador",
          "Equatorial Guinea",
          "Eritrea",
          "Estonia",
          "Eswatini",
          "Ethiopia",
          "Fiji",
          "Finland",
          "France",
          "Gabon",
          "Gambia",
          "Georgia",
          "Germany",
          "Ghana",
          "Greece",
          "Grenada",
          "Guatemala",
          "Guinea",
          "Guinea-Bissau",
          "Guyana",
          "Haiti",
          "Honduras",
          "Hungary",
          "Iceland",
          "India",
          "Indonesia",
          "Iran (Islamic Republic of)",
          "Iraq",
          "Ireland",
          "Israel",
          "Italy",
          "Jamaica",
          "Japan",
          "Jordan",
          "Kazakhstan",
          "Kenya",
          "Kiribati",
          "Kuwait",
          "Kyrgyzstan",
          "Lao People's Democratic Republic",
          "Latvia",
          "Lebanon",
          "Lesotho",
          "Liberia",
          "Libya",
          "Lithuania",
          "Luxembourg",
          "Madagascar",
          "Malawi",
          "Malaysia",
          "Maldives",
          "Mali",
          "Malta",
          "Marshall Islands",
          "Mauritania",
          "Mauritius",
          "Mexico",
          "Micronesia (Federated States of)",
          "Monaco",
          "Mongolia",
          "Montenegro",
          "Morocco",
          "Mozambique",
          "Myanmar",
          "Namibia",
          "Nauru",
          "Nepal",
          "Netherlands (Kingdom of the)",
          "New Zealand",
          "Nicaragua",
          "Niger",
          "Nigeria",
          "Niue",
          "North Macedonia",
          "Norway",
          "Oman",
          "Pakistan",
          "Palau",
          "Panama",
          "Papua New Guinea",
          "Paraguay",
          "Peru",
          "Philippines",
          "Poland",
          "Portugal",
          "Qatar",
          "Republic of Korea",
          "Republic of Moldova",
          "Romania",
          "Russian Federation",
          "Rwanda",
          "Saint Kitts and Nevis",
          "Saint Lucia",
          "Saint Vincent and the Grenadines",
          "Samoa",
          "San Marino",
          "Sao Tome and Principe",
          "Saudi Arabia",
          "Senegal",
          "Serbia",
          "Seychelles",
          "Sierra Leone",
          "Singapore",
          "Slovakia",
          "Slovenia",
          "Solomon Islands",
          "Somalia",
          "South Africa",
          "South Sudan",
          "Spain",
          "Sri Lanka",
          "Sudan",
          "Suriname",
          "Sweden",
          "Switzerland",
          "Syrian Arab Republic",
          "Tajikistan",
          "Thailand",
          "Timor-Leste",
          "Togo",
          "Tonga",
          "Trinidad and Tobago",
          "Tunisia",
          "Turkmenistan",
          "Tuvalu",
          "Türkiye",
          "Uganda",
          "Ukraine",
          "United Arab Emirates",
          "United Kingdom of Great Britain and Northern Ireland",
          "United Republic of Tanzania",
          "United States of America",
          "Uruguay",
          "Uzbekistan",
          "Vanuatu",
          "Venezuela (Bolivarian Republic of)",
          "Viet Nam",
          "Yemen",
          "Zambia",
          "Zimbabwe",
          "occupied Palestinian territory, including east Jerusalem"
         ],
         "name": "",
         "type": "choropleth",
         "z": {
          "bdata": "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",
          "dtype": "f8"
         }
        }
       ],
       "layout": {
        "coloraxis": {
         "colorbar": {
          "title": {
           "text": "FactValueNumeric"
          }
         },
         "colorscale": [
          [
           0,
           "#440154"
          ],
          [
           0.1111111111111111,
           "#482878"
          ],
          [
           0.2222222222222222,
           "#3e4989"
          ],
          [
           0.3333333333333333,
           "#31688e"
          ],
          [
           0.4444444444444444,
           "#26828e"
          ],
          [
           0.5555555555555556,
           "#1f9e89"
          ],
          [
           0.6666666666666666,
           "#35b779"
          ],
          [
           0.7777777777777778,
           "#6ece58"
          ],
          [
           0.8888888888888888,
           "#b5de2b"
          ],
          [
           1,
           "#fde725"
          ]
         ]
        },
        "geo": {
         "center": {},
         "domain": {
          "x": [
           0,
           1
          ],
          "y": [
           0,
           1
          ]
         }
        },
        "legend": {
         "tracegroupgap": 0
        },
        "template": {
         "data": {
          "bar": [
           {
            "error_x": {
             "color": "#2a3f5f"
            },
            "error_y": {
             "color": "#2a3f5f"
            },
            "marker": {
             "line": {
              "color": "#E5ECF6",
              "width": 0.5
             },
             "pattern": {
              "fillmode": "overlay",
              "size": 10,
              "solidity": 0.2
             }
            },
            "type": "bar"
           }
          ],
          "barpolar": [
           {
            "marker": {
             "line": {
              "color": "#E5ECF6",
              "width": 0.5
             },
             "pattern": {
              "fillmode": "overlay",
              "size": 10,
              "solidity": 0.2
             }
            },
            "type": "barpolar"
           }
          ],
          "carpet": [
           {
            "aaxis": {
             "endlinecolor": "#2a3f5f",
             "gridcolor": "white",
             "linecolor": "white",
             "minorgridcolor": "white",
             "startlinecolor": "#2a3f5f"
            },
            "baxis": {
             "endlinecolor": "#2a3f5f",
             "gridcolor": "white",
             "linecolor": "white",
             "minorgridcolor": "white",
             "startlinecolor": "#2a3f5f"
            },
            "type": "carpet"
           }
          ],
          "choropleth": [
           {
            "colorbar": {
             "outlinewidth": 0,
             "ticks": ""
            },
            "type": "choropleth"
           }
          ],
          "contour": [
           {
            "colorbar": {
             "outlinewidth": 0,
             "ticks": ""
            },
            "colorscale": [
             [
              0,
              "#0d0887"
             ],
             [
              0.1111111111111111,
              "#46039f"
             ],
             [
              0.2222222222222222,
              "#7201a8"
             ],
             [
              0.3333333333333333,
              "#9c179e"
             ],
             [
              0.4444444444444444,
              "#bd3786"
             ],
             [
              0.5555555555555556,
              "#d8576b"
             ],
             [
              0.6666666666666666,
              "#ed7953"
             ],
             [
              0.7777777777777778,
              "#fb9f3a"
             ],
             [
              0.8888888888888888,
              "#fdca26"
             ],
             [
              1,
              "#f0f921"
             ]
            ],
            "type": "contour"
           }
          ],
          "contourcarpet": [
           {
            "colorbar": {
             "outlinewidth": 0,
             "ticks": ""
            },
            "type": "contourcarpet"
           }
          ],
          "heatmap": [
           {
            "colorbar": {
             "outlinewidth": 0,
             "ticks": ""
            },
            "colorscale": [
             [
              0,
              "#0d0887"
             ],
             [
              0.1111111111111111,
              "#46039f"
             ],
             [
              0.2222222222222222,
              "#7201a8"
             ],
             [
              0.3333333333333333,
              "#9c179e"
             ],
             [
              0.4444444444444444,
              "#bd3786"
             ],
             [
              0.5555555555555556,
              "#d8576b"
             ],
             [
              0.6666666666666666,
              "#ed7953"
             ],
             [
              0.7777777777777778,
              "#fb9f3a"
             ],
             [
              0.8888888888888888,
              "#fdca26"
             ],
             [
              1,
              "#f0f921"
             ]
            ],
            "type": "heatmap"
           }
          ],
          "histogram": [
           {
            "marker": {
             "pattern": {
              "fillmode": "overlay",
              "size": 10,
              "solidity": 0.2
             }
            },
            "type": "histogram"
           }
          ],
          "histogram2d": [
           {
            "colorbar": {
             "outlinewidth": 0,
             "ticks": ""
            },
            "colorscale": [
             [
              0,
              "#0d0887"
             ],
             [
              0.1111111111111111,
              "#46039f"
             ],
             [
              0.2222222222222222,
              "#7201a8"
             ],
             [
              0.3333333333333333,
              "#9c179e"
             ],
             [
              0.4444444444444444,
              "#bd3786"
             ],
             [
              0.5555555555555556,
              "#d8576b"
             ],
             [
              0.6666666666666666,
              "#ed7953"
             ],
             [
              0.7777777777777778,
              "#fb9f3a"
             ],
             [
              0.8888888888888888,
              "#fdca26"
             ],
             [
              1,
              "#f0f921"
             ]
            ],
            "type": "histogram2d"
           }
          ],
          "histogram2dcontour": [
           {
            "colorbar": {
             "outlinewidth": 0,
             "ticks": ""
            },
            "colorscale": [
             [
              0,
              "#0d0887"
             ],
             [
              0.1111111111111111,
              "#46039f"
             ],
             [
              0.2222222222222222,
              "#7201a8"
             ],
             [
              0.3333333333333333,
              "#9c179e"
             ],
             [
              0.4444444444444444,
              "#bd3786"
             ],
             [
              0.5555555555555556,
              "#d8576b"
             ],
             [
              0.6666666666666666,
              "#ed7953"
             ],
             [
              0.7777777777777778,
              "#fb9f3a"
             ],
             [
              0.8888888888888888,
              "#fdca26"
             ],
             [
              1,
              "#f0f921"
             ]
            ],
            "type": "histogram2dcontour"
           }
          ],
          "mesh3d": [
           {
            "colorbar": {
             "outlinewidth": 0,
             "ticks": ""
            },
            "type": "mesh3d"
           }
          ],
          "parcoords": [
           {
            "line": {
             "colorbar": {
              "outlinewidth": 0,
              "ticks": ""
             }
            },
            "type": "parcoords"
           }
          ],
          "pie": [
           {
            "automargin": true,
            "type": "pie"
           }
          ],
          "scatter": [
           {
            "fillpattern": {
             "fillmode": "overlay",
             "size": 10,
             "solidity": 0.2
            },
            "type": "scatter"
           }
          ],
          "scatter3d": [
           {
            "line": {
             "colorbar": {
              "outlinewidth": 0,
              "ticks": ""
             }
            },
            "marker": {
             "colorbar": {
              "outlinewidth": 0,
              "ticks": ""
             }
            },
            "type": "scatter3d"
           }
          ],
          "scattercarpet": [
           {
            "marker": {
             "colorbar": {
              "outlinewidth": 0,
              "ticks": ""
             }
            },
            "type": "scattercarpet"
           }
          ],
          "scattergeo": [
           {
            "marker": {
             "colorbar": {
              "outlinewidth": 0,
              "ticks": ""
             }
            },
            "type": "scattergeo"
           }
          ],
          "scattergl": [
           {
            "marker": {
             "colorbar": {
              "outlinewidth": 0,
              "ticks": ""
             }
            },
            "type": "scattergl"
           }
          ],
          "scattermap": [
           {
            "marker": {
             "colorbar": {
              "outlinewidth": 0,
              "ticks": ""
             }
            },
            "type": "scattermap"
           }
          ],
          "scattermapbox": [
           {
            "marker": {
             "colorbar": {
              "outlinewidth": 0,
              "ticks": ""
             }
            },
            "type": "scattermapbox"
           }
          ],
          "scatterpolar": [
           {
            "marker": {
             "colorbar": {
              "outlinewidth": 0,
              "ticks": ""
             }
            },
            "type": "scatterpolar"
           }
          ],
          "scatterpolargl": [
           {
            "marker": {
             "colorbar": {
              "outlinewidth": 0,
              "ticks": ""
             }
            },
            "type": "scatterpolargl"
           }
          ],
          "scatterternary": [
           {
            "marker": {
             "colorbar": {
              "outlinewidth": 0,
              "ticks": ""
             }
            },
            "type": "scatterternary"
           }
          ],
          "surface": [
           {
            "colorbar": {
             "outlinewidth": 0,
             "ticks": ""
            },
            "colorscale": [
             [
              0,
              "#0d0887"
             ],
             [
              0.1111111111111111,
              "#46039f"
             ],
             [
              0.2222222222222222,
              "#7201a8"
             ],
             [
              0.3333333333333333,
              "#9c179e"
             ],
             [
              0.4444444444444444,
              "#bd3786"
             ],
             [
              0.5555555555555556,
              "#d8576b"
             ],
             [
              0.6666666666666666,
              "#ed7953"
             ],
             [
              0.7777777777777778,
              "#fb9f3a"
             ],
             [
              0.8888888888888888,
              "#fdca26"
             ],
             [
              1,
              "#f0f921"
             ]
            ],
            "type": "surface"
           }
          ],
          "table": [
           {
            "cells": {
             "fill": {
              "color": "#EBF0F8"
             },
             "line": {
              "color": "white"
             }
            },
            "header": {
             "fill": {
              "color": "#C8D4E3"
             },
             "line": {
              "color": "white"
             }
            },
            "type": "table"
           }
          ]
         },
         "layout": {
          "annotationdefaults": {
           "arrowcolor": "#2a3f5f",
           "arrowhead": 0,
           "arrowwidth": 1
          },
          "autotypenumbers": "strict",
          "coloraxis": {
           "colorbar": {
            "outlinewidth": 0,
            "ticks": ""
           }
          },
          "colorscale": {
           "diverging": [
            [
             0,
             "#8e0152"
            ],
            [
             0.1,
             "#c51b7d"
            ],
            [
             0.2,
             "#de77ae"
            ],
            [
             0.3,
             "#f1b6da"
            ],
            [
             0.4,
             "#fde0ef"
            ],
            [
             0.5,
             "#f7f7f7"
            ],
            [
             0.6,
             "#e6f5d0"
            ],
            [
             0.7,
             "#b8e186"
            ],
            [
             0.8,
             "#7fbc41"
            ],
            [
             0.9,
             "#4d9221"
            ],
            [
             1,
             "#276419"
            ]
           ],
           "sequential": [
            [
             0,
             "#0d0887"
            ],
            [
             0.1111111111111111,
             "#46039f"
            ],
            [
             0.2222222222222222,
             "#7201a8"
            ],
            [
             0.3333333333333333,
             "#9c179e"
            ],
            [
             0.4444444444444444,
             "#bd3786"
            ],
            [
             0.5555555555555556,
             "#d8576b"
            ],
            [
             0.6666666666666666,
             "#ed7953"
            ],
            [
             0.7777777777777778,
             "#fb9f3a"
            ],
            [
             0.8888888888888888,
             "#fdca26"
            ],
            [
             1,
             "#f0f921"
            ]
           ],
           "sequentialminus": [
            [
             0,
             "#0d0887"
            ],
            [
             0.1111111111111111,
             "#46039f"
            ],
            [
             0.2222222222222222,
             "#7201a8"
            ],
            [
             0.3333333333333333,
             "#9c179e"
            ],
            [
             0.4444444444444444,
             "#bd3786"
            ],
            [
             0.5555555555555556,
             "#d8576b"
            ],
            [
             0.6666666666666666,
             "#ed7953"
            ],
            [
             0.7777777777777778,
             "#fb9f3a"
            ],
            [
             0.8888888888888888,
             "#fdca26"
            ],
            [
             1,
             "#f0f921"
            ]
           ]
          },
          "colorway": [
           "#636efa",
           "#EF553B",
           "#00cc96",
           "#ab63fa",
           "#FFA15A",
           "#19d3f3",
           "#FF6692",
           "#B6E880",
           "#FF97FF",
           "#FECB52"
          ],
          "font": {
           "color": "#2a3f5f"
          },
          "geo": {
           "bgcolor": "white",
           "lakecolor": "white",
           "landcolor": "#E5ECF6",
           "showlakes": true,
           "showland": true,
           "subunitcolor": "white"
          },
          "hoverlabel": {
           "align": "left"
          },
          "hovermode": "closest",
          "mapbox": {
           "style": "light"
          },
          "paper_bgcolor": "white",
          "plot_bgcolor": "#E5ECF6",
          "polar": {
           "angularaxis": {
            "gridcolor": "white",
            "linecolor": "white",
            "ticks": ""
           },
           "bgcolor": "#E5ECF6",
           "radialaxis": {
            "gridcolor": "white",
            "linecolor": "white",
            "ticks": ""
           }
          },
          "scene": {
           "xaxis": {
            "backgroundcolor": "#E5ECF6",
            "gridcolor": "white",
            "gridwidth": 2,
            "linecolor": "white",
            "showbackground": true,
            "ticks": "",
            "zerolinecolor": "white"
           },
           "yaxis": {
            "backgroundcolor": "#E5ECF6",
            "gridcolor": "white",
            "gridwidth": 2,
            "linecolor": "white",
            "showbackground": true,
            "ticks": "",
            "zerolinecolor": "white"
           },
           "zaxis": {
            "backgroundcolor": "#E5ECF6",
            "gridcolor": "white",
            "gridwidth": 2,
            "linecolor": "white",
            "showbackground": true,
            "ticks": "",
            "zerolinecolor": "white"
           }
          },
          "shapedefaults": {
           "line": {
            "color": "#2a3f5f"
           }
          },
          "ternary": {
           "aaxis": {
            "gridcolor": "white",
            "linecolor": "white",
            "ticks": ""
           },
           "baxis": {
            "gridcolor": "white",
            "linecolor": "white",
            "ticks": ""
           },
           "bgcolor": "#E5ECF6",
           "caxis": {
            "gridcolor": "white",
            "linecolor": "white",
            "ticks": ""
           }
          },
          "title": {
           "x": 0.05
          },
          "xaxis": {
           "automargin": true,
           "gridcolor": "white",
           "linecolor": "white",
           "ticks": "",
           "title": {
            "standoff": 15
           },
           "zerolinecolor": "white",
           "zerolinewidth": 2
          },
          "yaxis": {
           "automargin": true,
           "gridcolor": "white",
           "linecolor": "white",
           "ticks": "",
           "title": {
            "standoff": 15
           },
           "zerolinecolor": "white",
           "zerolinewidth": 2
          }
         }
        },
        "title": {
         "text": "Average Urban PM2.5 Concentration by Location"
        }
       }
      }
     },
     "metadata": {},
     "output_type": "display_data"
    }
   ],
   "source": [
    "# ---------------------------\n",
    "# 6. Visual Exploration\n",
    "# ---------------------------\n",
    "\n",
    "pm_col = 'FactValueNumeric'\n",
    "\n",
    "# Distribution of PM2.5 values\n",
    "plt.figure(figsize=(10, 5))\n",
    "sns.histplot(df[pm_col], bins=40, kde=True)\n",
    "plt.title(\"Distribution of Annual Mean PM2.5 Values\")\n",
    "plt.xlabel(\"PM2.5 (μg/m³)\")\n",
    "plt.ylabel(\"Frequency\")\n",
    "plt.grid(True)\n",
    "plt.show()\n",
    "\n",
    "# Top 10 most polluted locations (latest year only)\n",
    "latest_year = df[df['IsLatestYear'] == 1]\n",
    "top_locations = latest_year.sort_values(by=pm_col, ascending=False).head(10)\n",
    "\n",
    "plt.figure(figsize=(12, 6))\n",
    "sns.barplot(data=top_locations, x='Location', y=pm_col, palette='Reds_r')\n",
    "plt.title(\"Top 10 Most Polluted Urban Locations (Latest Year Available)\")\n",
    "plt.ylabel(\"PM2.5 (μg/m³)\")\n",
    "plt.xlabel(\"Location\")\n",
    "plt.xticks(rotation=45)\n",
    "plt.tight_layout()\n",
    "plt.show()\n",
    "\n",
    "\n",
    "\n",
    "# Interactive choropleth (if 'Location' is mappable to country names)\n",
    "# Note: Requires cleaning or standardizing country/location names first\n",
    "choropleth_df = df.groupby('Location')[pm_col].mean().reset_index()\n",
    "fig = px.choropleth(\n",
    "    choropleth_df,\n",
    "    locations=\"Location\",\n",
    "    locationmode=\"country names\",  # Might need to adjust based on real values\n",
    "    color=pm_col,\n",
    "    color_continuous_scale=\"Viridis\",\n",
    "    title=\"Average Urban PM2.5 Concentration by Location\"\n",
    ")\n",
    "fig.show()\n"
   ]
  },
  {
   "cell_type": "code",
   "execution_count": 8,
   "id": "4b3efbf9",
   "metadata": {},
   "outputs": [
    {
     "name": "stdout",
     "output_type": "stream",
     "text": [
      "\n",
      "💾 Interim file saved to: ../data/interim/pm25_explored.csv\n"
     ]
    }
   ],
   "source": [
    "# ---------------------------\n",
    "# 7. Save Interim Version\n",
    "# ---------------------------\n",
    "\n",
    "interim_path = \"../data/interim/pm25_explored.csv\"\n",
    "df.to_csv(interim_path, index=False)\n",
    "print(f\"\\n💾 Interim file saved to: {interim_path}\")\n"
   ]
  }
 ],
 "metadata": {
  "kernelspec": {
   "display_name": "Week_2",
   "language": "python",
   "name": "python3"
  },
  "language_info": {
   "codemirror_mode": {
    "name": "ipython",
    "version": 3
   },
   "file_extension": ".py",
   "mimetype": "text/x-python",
   "name": "python",
   "nbconvert_exporter": "python",
   "pygments_lexer": "ipython3",
   "version": "3.13.3"
  }
 },
 "nbformat": 4,
 "nbformat_minor": 5
}
